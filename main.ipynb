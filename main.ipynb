{
 "cells": [
  {
   "cell_type": "markdown",
   "metadata": {},
   "source": [
    "## AEROPOLIS\n",
    "#### Group 296881"
   ]
  },
  {
   "cell_type": "code",
   "execution_count": null,
   "metadata": {},
   "outputs": [],
   "source": [
    "\"\"\"\n",
    "SMALL SUMMARY --- --- --- REMOVE BEFORE SUBMISSION --- --- ---\n",
    "\n",
    "\n",
    "\n",
    "One single notebook called “main.ipynb” with ALL the code used for the project.\n",
    "\n",
    "\n",
    "\n",
    "The notebook must have the following characteristics:\n",
    "\n",
    "    1. Text and code cells must alternate from start to finish. The text cell above must\n",
    "       describe the contents of the code below and its output so that a reader can easily\n",
    "       follow up on your implementation. \n",
    "\n",
    "    2. You must explain what you will do and why you chose to do so.\n",
    "\n",
    "    3. You must explain the outputs of the cell (if any) with particular attention\n",
    "       to describing figures such that a reader already knows what he is going to see.\n",
    "\"\"\""
   ]
  },
  {
   "cell_type": "code",
   "execution_count": null,
   "metadata": {},
   "outputs": [],
   "source": [
    "\"\"\"\n",
    "ALL TASKS --- --- --- REMOVE BEFORE SUBMISSION --- ---- ----\n",
    "\n",
    "Data Preprocessing:\n",
    "    Load and inspect the dataset.\n",
    "    Handle missing values (e.g., impute or drop).\n",
    "    Encode categorical features (e.g., one-hot encoding).\n",
    "\n",
    "Model Selection and Training:\n",
    "    Choose a machine learning algorithm (maybe Random Forest Regressor).\n",
    "    Split the data into training and testing sets (80%/20% split).\n",
    "    Train the model on the training set.\n",
    "\n",
    "Model Evaluation:\n",
    "    Evaluate the model using metrics such as Mean Absolute Error (MAE) and R-squared.\n",
    "    Compare with baseline models (e.g., Linear Regression, Decision Trees).\n",
    "\n",
    "Model Improvement:\n",
    "    Perform hyperparameter tuning (e.g., using GridSearchCV).\n",
    "    Optionally, explore other models like Gradient Boosting.\n",
    "\n",
    "Feature Importance:\n",
    "    Visualize feature importance from the Random Forest model.\n",
    "\n",
    "Reporting:\n",
    "    Write the project report, including:\n",
    "        Introduction: Brief project overview.\n",
    "        Methods: Approach, algorithm, features, and environment setup.\n",
    "        Experimental Design: Baselines, metrics, and purpose of experiments.\n",
    "        Results: Evaluation metrics, findings, and visualizations.\n",
    "        Conclusions: Takeaways, unanswered questions, and next steps.\n",
    "\n",
    "Code and Documentation:\n",
    "    Provide clean, well-documented code.\n",
    "    Include instructions for setting up the environment (e.g., requirements.txt or conda environment).\n",
    "\"\"\""
   ]
  },
  {
   "cell_type": "markdown",
   "metadata": {},
   "source": [
    "## [SECTION 1] Introduction\n",
    "\n",
    "To be added. Brief overview and aim. "
   ]
  },
  {
   "cell_type": "markdown",
   "metadata": {},
   "source": [
    "### Data Preparation\n",
    "\n",
    "We sample our dataset for ease of calculation in the early stages."
   ]
  },
  {
   "cell_type": "code",
   "execution_count": 6,
   "metadata": {},
   "outputs": [],
   "source": [
    "import pandas as pd\n",
    "\n",
    "# Get the filepath from user and read the data\n",
    "fileInput = \"/Users/yaseminates/Desktop\"\n",
    "df = pd.read_csv(f\"{fileInput}/aeropolis.csv\")\n",
    "\n",
    "# Sample a smaller version of the dataset\n",
    "df_sample = df.sample(frac=0.001, random_state=1) \n",
    "\"\"\"\n",
    "Started with 1.000 entries instead of the original 1.000.000\n",
    "\"\"\"\n",
    "\n",
    "# Save the above (smaller) dataset\n",
    "df_sample.to_csv('aeropolis_sample.csv', index=False)"
   ]
  },
  {
   "cell_type": "markdown",
   "metadata": {},
   "source": [
    "### Initial Analysis"
   ]
  },
  {
   "cell_type": "code",
   "execution_count": 8,
   "metadata": {},
   "outputs": [],
   "source": [
    "#code"
   ]
  },
  {
   "cell_type": "markdown",
   "metadata": {},
   "source": [
    "## [SECTION 2] Methods\n",
    "\n",
    "Regression. Lorem Ipsum."
   ]
  },
  {
   "cell_type": "code",
   "execution_count": null,
   "metadata": {},
   "outputs": [],
   "source": [
    "#code"
   ]
  },
  {
   "cell_type": "markdown",
   "metadata": {},
   "source": [
    "## [SECTION 3] Experimental Design\n",
    "\n",
    "Metrics. Lorem Ipsum."
   ]
  },
  {
   "cell_type": "code",
   "execution_count": 7,
   "metadata": {},
   "outputs": [],
   "source": [
    "#code"
   ]
  },
  {
   "cell_type": "markdown",
   "metadata": {},
   "source": [
    "## [SECTION 4] Results\n",
    "\n",
    "Lorem Ipsum."
   ]
  },
  {
   "cell_type": "code",
   "execution_count": 9,
   "metadata": {},
   "outputs": [],
   "source": [
    "#code"
   ]
  },
  {
   "cell_type": "markdown",
   "metadata": {},
   "source": [
    "## [SECTION 5] Conclusions"
   ]
  },
  {
   "cell_type": "code",
   "execution_count": null,
   "metadata": {},
   "outputs": [],
   "source": [
    "#code"
   ]
  }
 ],
 "metadata": {
  "kernelspec": {
   "display_name": "Python 3",
   "language": "python",
   "name": "python3"
  },
  "language_info": {
   "codemirror_mode": {
    "name": "ipython",
    "version": 3
   },
   "file_extension": ".py",
   "mimetype": "text/x-python",
   "name": "python",
   "nbconvert_exporter": "python",
   "pygments_lexer": "ipython3",
   "version": "3.12.1"
  }
 },
 "nbformat": 4,
 "nbformat_minor": 2
}
