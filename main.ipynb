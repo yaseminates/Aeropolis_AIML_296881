{
 "cells": [
  {
   "cell_type": "markdown",
   "metadata": {},
   "source": [
    "## AEROPOLIS\n",
    "#### Group 296881"
   ]
  },
  {
   "cell_type": "code",
   "execution_count": null,
   "metadata": {},
   "outputs": [],
   "source": [
    "\"\"\"\n",
    "SMALL SUMMARY --- --- --- REMOVE BEFORE SUBMISSION --- --- ---\n",
    "\n",
    "\n",
    "\n",
    "One single notebook called “main.ipynb” with ALL the code used for the project.\n",
    "\n",
    "\n",
    "\n",
    "The notebook must have the following characteristics:\n",
    "\n",
    "    1. Text and code cells must alternate from start to finish. The text cell above must\n",
    "       describe the contents of the code below and its output so that a reader can easily\n",
    "       follow up on your implementation. \n",
    "\n",
    "    2. You must explain what you will do and why you chose to do so.\n",
    "\n",
    "    3. You must explain the outputs of the cell (if any) with particular attention\n",
    "       to describing figures such that a reader already knows what he is going to see.\n",
    "\"\"\""
   ]
  },
  {
   "cell_type": "code",
   "execution_count": null,
   "metadata": {},
   "outputs": [],
   "source": [
    "\"\"\"\n",
    "ALL TASKS --- --- --- REMOVE BEFORE SUBMISSION --- ---- ----\n",
    "\n",
    "Data Preprocessing:\n",
    "    Load and inspect the dataset.\n",
    "    Handle missing values (e.g., impute or drop).\n",
    "    Encode categorical features (e.g., one-hot encoding).\n",
    "\n",
    "Model Selection and Training:\n",
    "    Choose a machine learning algorithm (maybe Random Forest Regressor).\n",
    "    Split the data into training and testing sets (80%/20% split).\n",
    "    Train the model on the training set.\n",
    "\n",
    "Model Evaluation:\n",
    "    Evaluate the model using metrics such as Mean Absolute Error (MAE) and R-squared.\n",
    "    Compare with baseline models (e.g., Linear Regression, Decision Trees).\n",
    "\n",
    "Model Improvement:\n",
    "    Perform hyperparameter tuning (e.g., using GridSearchCV).\n",
    "    Optionally, explore other models like Gradient Boosting.\n",
    "\n",
    "Feature Importance:\n",
    "    Visualize feature importance from the Random Forest model.\n",
    "\n",
    "Reporting:\n",
    "    Write the project report, including:\n",
    "        Introduction: Brief project overview.\n",
    "        Methods: Approach, algorithm, features, and environment setup.\n",
    "        Experimental Design: Baselines, metrics, and purpose of experiments.\n",
    "        Results: Evaluation metrics, findings, and visualizations.\n",
    "        Conclusions: Takeaways, unanswered questions, and next steps.\n",
    "\n",
    "Code and Documentation:\n",
    "    Provide clean, well-documented code.\n",
    "    Include instructions for setting up the environment (e.g., requirements.txt or conda environment).\n",
    "\"\"\""
   ]
  },
  {
   "cell_type": "markdown",
   "metadata": {},
   "source": [
    "## [SECTION 1] Introduction\n",
    "\n",
    "To be added. Brief overview and aim. "
   ]
  },
  {
   "cell_type": "markdown",
   "metadata": {},
   "source": [
    "### Data Preparation\n",
    "\n",
    "We sample our dataset for ease of calculation (especially in the early stages)."
   ]
  },
  {
   "cell_type": "code",
   "execution_count": 54,
   "metadata": {},
   "outputs": [],
   "source": [
    "import pandas as pd\n",
    "import matplotlib.pyplot as plt\n",
    "import seaborn as sns\n",
    "\n",
    "\n",
    "# Get the filepath from user and read the data\n",
    "fileInput = \"/Users/yaseminates/Desktop\"\n",
    "df_or = pd.read_csv(f\"{fileInput}/aeropolis.csv\")\n",
    "\n",
    "# Sample a smaller version of the dataset\n",
    "df = df_or.sample(frac=0.01, random_state=1) \n",
    "\"\"\"\n",
    "Started with 10.000 entries instead of the original 1.000.000\n",
    "\"\"\"\n",
    "\n",
    "# Save the above (smaller) dataset\n",
    "df.to_csv('aeropolis_sample.csv', index=False)"
   ]
  },
  {
   "cell_type": "markdown",
   "metadata": {},
   "source": [
    "### Exploratory Data Analysis"
   ]
  },
  {
   "cell_type": "markdown",
   "metadata": {},
   "source": [
    "We start by looking at the overall structure and checking for missing values. Of all 1.000.000 entries neary 100.000 of each category is missing. This is nearly 10% of all data."
   ]
  },
  {
   "cell_type": "code",
   "execution_count": 46,
   "metadata": {},
   "outputs": [
    {
     "name": "stdout",
     "output_type": "stream",
     "text": [
      "<class 'pandas.core.frame.DataFrame'>\n",
      "RangeIndex: 1000000 entries, 0 to 999999\n",
      "Data columns (total 20 columns):\n",
      " #   Column                         Non-Null Count   Dtype  \n",
      "---  ------                         --------------   -----  \n",
      " 0   Cargo_Capacity_kg              899767 non-null  float64\n",
      " 1   Air_Temperature_Celsius        900236 non-null  float64\n",
      " 2   Weather_Status                 899826 non-null  object \n",
      " 3   Package_Type                   899579 non-null  object \n",
      " 4   Vertical_Landing               900434 non-null  object \n",
      " 5   Equipment_Cost                 900197 non-null  float64\n",
      " 6   Market_Region                  899887 non-null  object \n",
      " 7   Flight_Duration_Minutes        900047 non-null  object \n",
      " 8   Terrain_Type                   900329 non-null  object \n",
      " 9   Water_Usage_liters             900344 non-null  float64\n",
      " 10  Flight_Hours                   900273 non-null  float64\n",
      " 11  Delivery_Time_Minutes          900036 non-null  float64\n",
      " 12  Cleaning_Liquid_Usage_liters   899602 non-null  float64\n",
      " 13  Climate_Zone                   899823 non-null  object \n",
      " 14  Quantum_Battery                900007 non-null  object \n",
      " 15  Flight_Zone                    899843 non-null  object \n",
      " 16  Autopilot_Quality_Index        900189 non-null  float64\n",
      " 17  Vertical_Max_Speed             899779 non-null  float64\n",
      " 18  Wind_Speed_kmph                900212 non-null  float64\n",
      " 19  Route_Optimization_Per_Second  899614 non-null  float64\n",
      "dtypes: float64(11), object(9)\n",
      "memory usage: 152.6+ MB\n"
     ]
    },
    {
     "data": {
      "text/html": [
       "<div>\n",
       "<style scoped>\n",
       "    .dataframe tbody tr th:only-of-type {\n",
       "        vertical-align: middle;\n",
       "    }\n",
       "\n",
       "    .dataframe tbody tr th {\n",
       "        vertical-align: top;\n",
       "    }\n",
       "\n",
       "    .dataframe thead th {\n",
       "        text-align: right;\n",
       "    }\n",
       "</style>\n",
       "<table border=\"1\" class=\"dataframe\">\n",
       "  <thead>\n",
       "    <tr style=\"text-align: right;\">\n",
       "      <th></th>\n",
       "      <th>Cargo_Capacity_kg</th>\n",
       "      <th>Air_Temperature_Celsius</th>\n",
       "      <th>Equipment_Cost</th>\n",
       "      <th>Water_Usage_liters</th>\n",
       "      <th>Flight_Hours</th>\n",
       "      <th>Delivery_Time_Minutes</th>\n",
       "      <th>Cleaning_Liquid_Usage_liters</th>\n",
       "      <th>Autopilot_Quality_Index</th>\n",
       "      <th>Vertical_Max_Speed</th>\n",
       "      <th>Wind_Speed_kmph</th>\n",
       "      <th>Route_Optimization_Per_Second</th>\n",
       "    </tr>\n",
       "  </thead>\n",
       "  <tbody>\n",
       "    <tr>\n",
       "      <th>count</th>\n",
       "      <td>899767.000000</td>\n",
       "      <td>900236.000000</td>\n",
       "      <td>900197.000000</td>\n",
       "      <td>900344.000000</td>\n",
       "      <td>900273.000000</td>\n",
       "      <td>900036.000000</td>\n",
       "      <td>899602.000000</td>\n",
       "      <td>900189.000000</td>\n",
       "      <td>899779.000000</td>\n",
       "      <td>900212.000000</td>\n",
       "      <td>899614.000000</td>\n",
       "    </tr>\n",
       "    <tr>\n",
       "      <th>mean</th>\n",
       "      <td>4.649776</td>\n",
       "      <td>27.502480</td>\n",
       "      <td>29987.480920</td>\n",
       "      <td>4999.072438</td>\n",
       "      <td>149.994980</td>\n",
       "      <td>104.482616</td>\n",
       "      <td>50.092852</td>\n",
       "      <td>0.500285</td>\n",
       "      <td>299.315963</td>\n",
       "      <td>550.079136</td>\n",
       "      <td>999.718546</td>\n",
       "    </tr>\n",
       "    <tr>\n",
       "      <th>std</th>\n",
       "      <td>1.696381</td>\n",
       "      <td>7.220540</td>\n",
       "      <td>11548.037346</td>\n",
       "      <td>1500.069589</td>\n",
       "      <td>12.254514</td>\n",
       "      <td>25.944757</td>\n",
       "      <td>50.073233</td>\n",
       "      <td>0.288772</td>\n",
       "      <td>115.499584</td>\n",
       "      <td>259.809348</td>\n",
       "      <td>199.873344</td>\n",
       "    </tr>\n",
       "    <tr>\n",
       "      <th>min</th>\n",
       "      <td>-1.147613</td>\n",
       "      <td>15.000041</td>\n",
       "      <td>10000.140000</td>\n",
       "      <td>-2323.700000</td>\n",
       "      <td>95.000000</td>\n",
       "      <td>60.000000</td>\n",
       "      <td>0.000000</td>\n",
       "      <td>0.000000</td>\n",
       "      <td>100.000000</td>\n",
       "      <td>100.000896</td>\n",
       "      <td>-133.070000</td>\n",
       "    </tr>\n",
       "    <tr>\n",
       "      <th>25%</th>\n",
       "      <td>3.418913</td>\n",
       "      <td>21.252947</td>\n",
       "      <td>19972.210000</td>\n",
       "      <td>3987.087500</td>\n",
       "      <td>142.000000</td>\n",
       "      <td>82.000000</td>\n",
       "      <td>14.450000</td>\n",
       "      <td>0.250000</td>\n",
       "      <td>199.000000</td>\n",
       "      <td>325.135896</td>\n",
       "      <td>864.782500</td>\n",
       "    </tr>\n",
       "    <tr>\n",
       "      <th>50%</th>\n",
       "      <td>4.651655</td>\n",
       "      <td>27.504887</td>\n",
       "      <td>29986.650000</td>\n",
       "      <td>4997.685000</td>\n",
       "      <td>150.000000</td>\n",
       "      <td>104.000000</td>\n",
       "      <td>34.730000</td>\n",
       "      <td>0.500000</td>\n",
       "      <td>299.000000</td>\n",
       "      <td>550.349457</td>\n",
       "      <td>999.750000</td>\n",
       "    </tr>\n",
       "    <tr>\n",
       "      <th>75%</th>\n",
       "      <td>5.878848</td>\n",
       "      <td>33.751600</td>\n",
       "      <td>39990.970000</td>\n",
       "      <td>6011.532500</td>\n",
       "      <td>158.000000</td>\n",
       "      <td>127.000000</td>\n",
       "      <td>69.427500</td>\n",
       "      <td>0.750000</td>\n",
       "      <td>399.000000</td>\n",
       "      <td>774.780272</td>\n",
       "      <td>1134.480000</td>\n",
       "    </tr>\n",
       "    <tr>\n",
       "      <th>max</th>\n",
       "      <td>9.963372</td>\n",
       "      <td>39.999997</td>\n",
       "      <td>49999.990000</td>\n",
       "      <td>13104.200000</td>\n",
       "      <td>213.000000</td>\n",
       "      <td>149.000000</td>\n",
       "      <td>716.380000</td>\n",
       "      <td>1.000000</td>\n",
       "      <td>499.000000</td>\n",
       "      <td>999.998098</td>\n",
       "      <td>1999.670000</td>\n",
       "    </tr>\n",
       "  </tbody>\n",
       "</table>\n",
       "</div>"
      ],
      "text/plain": [
       "       Cargo_Capacity_kg  Air_Temperature_Celsius  Equipment_Cost  \\\n",
       "count      899767.000000            900236.000000   900197.000000   \n",
       "mean            4.649776                27.502480    29987.480920   \n",
       "std             1.696381                 7.220540    11548.037346   \n",
       "min            -1.147613                15.000041    10000.140000   \n",
       "25%             3.418913                21.252947    19972.210000   \n",
       "50%             4.651655                27.504887    29986.650000   \n",
       "75%             5.878848                33.751600    39990.970000   \n",
       "max             9.963372                39.999997    49999.990000   \n",
       "\n",
       "       Water_Usage_liters   Flight_Hours  Delivery_Time_Minutes  \\\n",
       "count       900344.000000  900273.000000          900036.000000   \n",
       "mean          4999.072438     149.994980             104.482616   \n",
       "std           1500.069589      12.254514              25.944757   \n",
       "min          -2323.700000      95.000000              60.000000   \n",
       "25%           3987.087500     142.000000              82.000000   \n",
       "50%           4997.685000     150.000000             104.000000   \n",
       "75%           6011.532500     158.000000             127.000000   \n",
       "max          13104.200000     213.000000             149.000000   \n",
       "\n",
       "       Cleaning_Liquid_Usage_liters  Autopilot_Quality_Index  \\\n",
       "count                 899602.000000            900189.000000   \n",
       "mean                      50.092852                 0.500285   \n",
       "std                       50.073233                 0.288772   \n",
       "min                        0.000000                 0.000000   \n",
       "25%                       14.450000                 0.250000   \n",
       "50%                       34.730000                 0.500000   \n",
       "75%                       69.427500                 0.750000   \n",
       "max                      716.380000                 1.000000   \n",
       "\n",
       "       Vertical_Max_Speed  Wind_Speed_kmph  Route_Optimization_Per_Second  \n",
       "count       899779.000000    900212.000000                  899614.000000  \n",
       "mean           299.315963       550.079136                     999.718546  \n",
       "std            115.499584       259.809348                     199.873344  \n",
       "min            100.000000       100.000896                    -133.070000  \n",
       "25%            199.000000       325.135896                     864.782500  \n",
       "50%            299.000000       550.349457                     999.750000  \n",
       "75%            399.000000       774.780272                    1134.480000  \n",
       "max            499.000000       999.998098                    1999.670000  "
      ]
     },
     "execution_count": 46,
     "metadata": {},
     "output_type": "execute_result"
    }
   ],
   "source": [
    "# Statistics\n",
    "\n",
    "df_or.shape\n",
    "\n",
    "df_or.info()\n",
    "\n",
    "df_or.describe()\n",
    "\n",
    "# These will be structured later..."
   ]
  },
  {
   "cell_type": "markdown",
   "metadata": {},
   "source": [
    "### Handling Missing Values"
   ]
  },
  {
   "cell_type": "markdown",
   "metadata": {},
   "source": [
    "## [SECTION 2] Methods\n",
    "\n",
    "Regression. Lorem Ipsum."
   ]
  },
  {
   "cell_type": "code",
   "execution_count": null,
   "metadata": {},
   "outputs": [],
   "source": [
    "#code"
   ]
  },
  {
   "cell_type": "markdown",
   "metadata": {},
   "source": [
    "## [SECTION 3] Experimental Design\n",
    "\n",
    "Metrics. Lorem Ipsum."
   ]
  },
  {
   "cell_type": "code",
   "execution_count": 7,
   "metadata": {},
   "outputs": [],
   "source": [
    "#code"
   ]
  },
  {
   "cell_type": "markdown",
   "metadata": {},
   "source": [
    "## [SECTION 4] Results\n",
    "\n",
    "Lorem Ipsum."
   ]
  },
  {
   "cell_type": "code",
   "execution_count": 9,
   "metadata": {},
   "outputs": [],
   "source": [
    "#code"
   ]
  },
  {
   "cell_type": "markdown",
   "metadata": {},
   "source": [
    "## [SECTION 5] Conclusions"
   ]
  },
  {
   "cell_type": "code",
   "execution_count": null,
   "metadata": {},
   "outputs": [],
   "source": [
    "#code"
   ]
  }
 ],
 "metadata": {
  "kernelspec": {
   "display_name": "Python 3",
   "language": "python",
   "name": "python3"
  },
  "language_info": {
   "codemirror_mode": {
    "name": "ipython",
    "version": 3
   },
   "file_extension": ".py",
   "mimetype": "text/x-python",
   "name": "python",
   "nbconvert_exporter": "python",
   "pygments_lexer": "ipython3",
   "version": "3.12.1"
  }
 },
 "nbformat": 4,
 "nbformat_minor": 2
}
